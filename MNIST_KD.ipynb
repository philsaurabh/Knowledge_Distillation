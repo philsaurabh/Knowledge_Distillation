{
  "nbformat": 4,
  "nbformat_minor": 0,
  "metadata": {
    "colab": {
      "name": "MNIST-KD.ipynb",
      "provenance": [],
      "collapsed_sections": []
    },
    "kernelspec": {
      "name": "python3",
      "display_name": "Python 3"
    },
    "accelerator": "GPU"
  },
  "cells": [
    {
      "cell_type": "markdown",
      "metadata": {
        "id": "xYF2vjLEGV-r"
      },
      "source": [
        "## Knowledge Distillation on MNIST Dataset "
      ]
    },
    {
      "cell_type": "code",
      "metadata": {
        "id": "GRkeYKckGbA3"
      },
      "source": [
        "from matplotlib import pyplot\n",
        "from keras.datasets import mnist\n",
        "from keras.utils import to_categorical\n",
        "from keras.models import Sequential\n",
        "from keras.layers import Conv2D, MaxPooling2D, Dense, Dropout, Flatten\n",
        "from keras.optimizers import Adam\n",
        "from keras.losses import SparseCategoricalCrossentropy\n",
        "from keras.metrics import SparseCategoricalAccuracy"
      ],
      "execution_count": 127,
      "outputs": []
    },
    {
      "cell_type": "markdown",
      "metadata": {
        "id": "K2BLFedm9UfB"
      },
      "source": [
        "## GPU check"
      ]
    },
    {
      "cell_type": "code",
      "metadata": {
        "id": "ZBJBVVRQ9Twr",
        "colab": {
          "base_uri": "https://localhost:8080/",
          "height": 36
        },
        "outputId": "087f83f0-1f8a-4343-c881-e19152b1e066"
      },
      "source": [
        "import tensorflow as tf\n",
        "tf.test.gpu_device_name()"
      ],
      "execution_count": 128,
      "outputs": [
        {
          "output_type": "execute_result",
          "data": {
            "application/vnd.google.colaboratory.intrinsic+json": {
              "type": "string"
            },
            "text/plain": [
              "'/device:GPU:0'"
            ]
          },
          "metadata": {
            "tags": []
          },
          "execution_count": 128
        }
      ]
    },
    {
      "cell_type": "markdown",
      "metadata": {
        "id": "hruF7FQEH7YQ"
      },
      "source": [
        "### Load and Preprocess Dataset"
      ]
    },
    {
      "cell_type": "code",
      "metadata": {
        "id": "y_1Vzmx3G1Zq"
      },
      "source": [
        "def loadDataset():\n",
        "  (trainX, trainy), (testX, testy) = mnist.load_data()\n",
        "  \n",
        "  trainX = trainX.reshape((trainX.shape[0], 28, 28, 1))\n",
        "  testX = testX.reshape((testX.shape[0], 28, 28, 1))\n",
        "\t\n",
        "  trainy = trainy\n",
        "  testy  = testy\n",
        "  \n",
        "  train_norm = trainX.astype('float32')/255.0\n",
        "  test_norm  = testX.astype('float32')/255.0\n",
        "\n",
        "  return train_norm, trainy, test_norm, testy"
      ],
      "execution_count": 129,
      "outputs": []
    },
    {
      "cell_type": "code",
      "metadata": {
        "id": "4CDHv7ZY06kw"
      },
      "source": [
        "trainX, trainy, testX, testy = loadDataset()"
      ],
      "execution_count": 130,
      "outputs": []
    },
    {
      "cell_type": "markdown",
      "metadata": {
        "id": "y9bKRudgIDCe"
      },
      "source": [
        "### Build the teacher model"
      ]
    },
    {
      "cell_type": "code",
      "metadata": {
        "id": "NwdXcpLxG2To"
      },
      "source": [
        "teacher = Sequential()\n",
        "teacher = Sequential(name=\"Teacher_Model\")\n",
        "\n",
        "teacher.add(Conv2D(32, kernel_size=(3, 3),  activation='relu', kernel_initializer='he_normal', input_shape=(28,28,1)))\n",
        "teacher.add(MaxPooling2D(pool_size=(2, 2)))\n",
        "teacher.add(Dropout(0.4))\n",
        "\n",
        "teacher.add(Flatten())\n",
        "teacher.add(Dense(256, activation='relu'))\n",
        "teacher.add(Dropout(0.4))\n",
        "\n",
        "teacher.add(Dense(128, activation='relu'))\n",
        "teacher.add(Dropout(0.4))\n",
        "\n",
        "teacher.add(Dense(32, activation='relu'))\n",
        "teacher.add(Dropout(0.4))\n",
        "\n",
        "teacher.add(Dense(10, activation=None))   # This is essential, as we will use the logits for calculating softened probabilites at different T\n",
        "\n",
        "teacher.compile(\n",
        "    optimizer=Adam(),\n",
        "    loss=SparseCategoricalCrossentropy(from_logits=True),\n",
        "    metrics=[SparseCategoricalAccuracy()],\n",
        ")"
      ],
      "execution_count": 131,
      "outputs": []
    },
    {
      "cell_type": "code",
      "metadata": {
        "id": "4ZofDNpxIoKD",
        "colab": {
          "base_uri": "https://localhost:8080/"
        },
        "outputId": "5a4ee3f4-e5a3-45f1-b2c6-428d2499bcae"
      },
      "source": [
        "teacher.summary()"
      ],
      "execution_count": 132,
      "outputs": [
        {
          "output_type": "stream",
          "text": [
            "Model: \"Teacher_Model\"\n",
            "_________________________________________________________________\n",
            "Layer (type)                 Output Shape              Param #   \n",
            "=================================================================\n",
            "conv2d_20 (Conv2D)           (None, 26, 26, 32)        320       \n",
            "_________________________________________________________________\n",
            "max_pooling2d_20 (MaxPooling (None, 13, 13, 32)        0         \n",
            "_________________________________________________________________\n",
            "dropout_11 (Dropout)         (None, 13, 13, 32)        0         \n",
            "_________________________________________________________________\n",
            "flatten_20 (Flatten)         (None, 5408)              0         \n",
            "_________________________________________________________________\n",
            "dense_39 (Dense)             (None, 256)               1384704   \n",
            "_________________________________________________________________\n",
            "dropout_12 (Dropout)         (None, 256)               0         \n",
            "_________________________________________________________________\n",
            "dense_40 (Dense)             (None, 128)               32896     \n",
            "_________________________________________________________________\n",
            "dropout_13 (Dropout)         (None, 128)               0         \n",
            "_________________________________________________________________\n",
            "dense_41 (Dense)             (None, 32)                4128      \n",
            "_________________________________________________________________\n",
            "dropout_14 (Dropout)         (None, 32)                0         \n",
            "_________________________________________________________________\n",
            "dense_42 (Dense)             (None, 10)                330       \n",
            "=================================================================\n",
            "Total params: 1,422,378\n",
            "Trainable params: 1,422,378\n",
            "Non-trainable params: 0\n",
            "_________________________________________________________________\n"
          ],
          "name": "stdout"
        }
      ]
    },
    {
      "cell_type": "markdown",
      "metadata": {
        "id": "t2zbmN2JJhWD"
      },
      "source": [
        "### Train the teacher model"
      ]
    },
    {
      "cell_type": "code",
      "metadata": {
        "id": "JbaNtAt9Jjll",
        "colab": {
          "base_uri": "https://localhost:8080/"
        },
        "outputId": "ae313bf7-a6ff-4e00-e77c-a2a8946293fb"
      },
      "source": [
        "teacher.fit(trainX, trainy, epochs=10, batch_size=32, validation_data=(testX, testy), verbose=1)"
      ],
      "execution_count": 133,
      "outputs": [
        {
          "output_type": "stream",
          "text": [
            "Epoch 1/10\n",
            "1875/1875 [==============================] - 6s 3ms/step - loss: 0.5955 - sparse_categorical_accuracy: 0.8189 - val_loss: 0.1047 - val_sparse_categorical_accuracy: 0.9710\n",
            "Epoch 2/10\n",
            "1875/1875 [==============================] - 6s 3ms/step - loss: 0.2192 - sparse_categorical_accuracy: 0.9466 - val_loss: 0.0756 - val_sparse_categorical_accuracy: 0.9783\n",
            "Epoch 3/10\n",
            "1875/1875 [==============================] - 6s 3ms/step - loss: 0.1685 - sparse_categorical_accuracy: 0.9599 - val_loss: 0.0690 - val_sparse_categorical_accuracy: 0.9817\n",
            "Epoch 4/10\n",
            "1875/1875 [==============================] - 6s 3ms/step - loss: 0.1348 - sparse_categorical_accuracy: 0.9668 - val_loss: 0.0655 - val_sparse_categorical_accuracy: 0.9842\n",
            "Epoch 5/10\n",
            "1875/1875 [==============================] - 6s 3ms/step - loss: 0.1217 - sparse_categorical_accuracy: 0.9718 - val_loss: 0.0618 - val_sparse_categorical_accuracy: 0.9844\n",
            "Epoch 6/10\n",
            "1875/1875 [==============================] - 6s 3ms/step - loss: 0.1043 - sparse_categorical_accuracy: 0.9751 - val_loss: 0.0543 - val_sparse_categorical_accuracy: 0.9866\n",
            "Epoch 7/10\n",
            "1875/1875 [==============================] - 6s 3ms/step - loss: 0.0955 - sparse_categorical_accuracy: 0.9771 - val_loss: 0.0550 - val_sparse_categorical_accuracy: 0.9858\n",
            "Epoch 8/10\n",
            "1875/1875 [==============================] - 6s 3ms/step - loss: 0.0896 - sparse_categorical_accuracy: 0.9778 - val_loss: 0.0517 - val_sparse_categorical_accuracy: 0.9882\n",
            "Epoch 9/10\n",
            "1875/1875 [==============================] - 6s 3ms/step - loss: 0.0798 - sparse_categorical_accuracy: 0.9800 - val_loss: 0.0529 - val_sparse_categorical_accuracy: 0.9885\n",
            "Epoch 10/10\n",
            "1875/1875 [==============================] - 6s 3ms/step - loss: 0.0763 - sparse_categorical_accuracy: 0.9815 - val_loss: 0.0429 - val_sparse_categorical_accuracy: 0.9896\n"
          ],
          "name": "stdout"
        },
        {
          "output_type": "execute_result",
          "data": {
            "text/plain": [
              "<tensorflow.python.keras.callbacks.History at 0x7f20f7252080>"
            ]
          },
          "metadata": {
            "tags": []
          },
          "execution_count": 133
        }
      ]
    },
    {
      "cell_type": "markdown",
      "metadata": {
        "id": "PwKaGeU1i0-f"
      },
      "source": [
        "**The teacher model achieves 98.96% accuracy on test data.**"
      ]
    },
    {
      "cell_type": "markdown",
      "metadata": {
        "id": "ymWILJbuIgpx"
      },
      "source": [
        "### Save/Load a model"
      ]
    },
    {
      "cell_type": "code",
      "metadata": {
        "id": "DhPxVbpPImGV"
      },
      "source": [
        "def saveModel(inp_model, filename):\n",
        "  inp_model.save(filename)\n",
        "  return\n",
        "\n",
        "def loadModel(filename):\n",
        "  model = load_model(filename)\n",
        "  return model"
      ],
      "execution_count": 134,
      "outputs": []
    },
    {
      "cell_type": "code",
      "metadata": {
        "id": "8Fy3z8vEIxPd"
      },
      "source": [
        "# saveModel(teacher, \"baseline_fashion_mnist.h5\")"
      ],
      "execution_count": 135,
      "outputs": []
    },
    {
      "cell_type": "markdown",
      "metadata": {
        "id": "wzW_X7Xoc-FM"
      },
      "source": [
        "## Creating Distiller class"
      ]
    },
    {
      "cell_type": "code",
      "metadata": {
        "id": "nKdc9cwtc9X6"
      },
      "source": [
        "# Reference: https://keras.io/examples/vision/knowledge_distillation/\n",
        "import keras\n",
        "class Distiller(keras.Model):\n",
        "    def __init__(self, student, teacher):\n",
        "        super(Distiller, self).__init__()\n",
        "        self.teacher = teacher\n",
        "        self.student = student\n",
        "\n",
        "    def compile(\n",
        "        self,\n",
        "        optimizer,\n",
        "        metrics,\n",
        "        student_loss_fn,\n",
        "        distillation_loss_fn,\n",
        "        alpha=0.1,\n",
        "        temperature=3,\n",
        "    ):\n",
        "        \"\"\" Configure the distiller.\n",
        "\n",
        "        Args:\n",
        "            optimizer            : Keras optimizer for the student weights\n",
        "            metrics              : Keras metrics for evaluation\n",
        "            student_loss_fn      : Loss function of difference between student predictions and ground-truth\n",
        "            distillation_loss_fn : Loss function of difference between soft student predictions and soft teacher predictions\n",
        "            alpha                : weight to distillation_loss_fn and 1-alpha to student_loss_fn\n",
        "            temperature          : Temperature for softening probability distributions. Larger temperature gives softer distributions.\n",
        "        \"\"\"\n",
        "        super(Distiller, self).compile(optimizer=optimizer, metrics=metrics)\n",
        "        self.student_loss_fn = student_loss_fn\n",
        "        self.distillation_loss_fn = distillation_loss_fn\n",
        "        self.alpha = alpha\n",
        "        self.temperature = temperature\n",
        "\n",
        "    def train_step(self, data):\n",
        "        # Unpack data\n",
        "        x, y = data\n",
        "\n",
        "        # Forward pass of teacher\n",
        "        teacher_predictions = self.teacher(x, training=False)\n",
        "\n",
        "        with tf.GradientTape() as tape:\n",
        "            # Forward pass of student\n",
        "            student_predictions = self.student(x, training=True)\n",
        "\n",
        "            # Compute losses\n",
        "            student_loss = self.student_loss_fn(y, student_predictions)\n",
        "            distillation_loss = self.distillation_loss_fn(\n",
        "                tf.nn.softmax(teacher_predictions / self.temperature, axis=1),\n",
        "                tf.nn.softmax(student_predictions / self.temperature, axis=1),\n",
        "            )\n",
        "            loss = (1 - self.alpha) * student_loss + self.alpha * (self.temperature ** 2) * distillation_loss\n",
        "\n",
        "        # Compute gradients\n",
        "        trainable_vars = self.student.trainable_variables\n",
        "        gradients = tape.gradient(loss, trainable_vars)\n",
        "\n",
        "        # Update weights\n",
        "        self.optimizer.apply_gradients(zip(gradients, trainable_vars))\n",
        "\n",
        "        # Update the metrics configured in `compile()`.\n",
        "        self.compiled_metrics.update_state(y, student_predictions)\n",
        "\n",
        "        # Return a dict of performance\n",
        "        results = {m.name: m.result() for m in self.metrics}\n",
        "        results.update(\n",
        "            {\"student_loss\": student_loss, \"distillation_loss\": distillation_loss, \"loss\": loss}\n",
        "        )\n",
        "        return results\n",
        "\n",
        "    def test_step(self, data):\n",
        "        # Unpack the data\n",
        "        x, y = data\n",
        "\n",
        "        # Compute predictions\n",
        "        y_prediction = self.student(x, training=False)\n",
        "\n",
        "        # Calculate the loss\n",
        "        student_loss = self.student_loss_fn(y, y_prediction)\n",
        "\n",
        "        # Update the metrics.\n",
        "        self.compiled_metrics.update_state(y, y_prediction)\n",
        "\n",
        "        # Return a dict of performance\n",
        "        results = {m.name: m.result() for m in self.metrics}\n",
        "        results.update({\"loss\": student_loss})\n",
        "        return results"
      ],
      "execution_count": 136,
      "outputs": []
    },
    {
      "cell_type": "markdown",
      "metadata": {
        "id": "7CmqbKmcci6V"
      },
      "source": [
        "# Experiment 1\n",
        "\n",
        "**Q) Can a smaller model get benefit from the dark knowledge ?**"
      ]
    },
    {
      "cell_type": "markdown",
      "metadata": {
        "id": "GfxFzv2aI-H5"
      },
      "source": [
        "### Create a small student model"
      ]
    },
    {
      "cell_type": "code",
      "metadata": {
        "id": "vGJ54XFNJmc1"
      },
      "source": [
        "# Create the student\n",
        "def createStudentModel():\n",
        "  student = Sequential()\n",
        "  student = Sequential(name=\"Student_Model\")\n",
        "\n",
        "  student.add(Conv2D(32, kernel_size=(3, 3),  activation='relu', kernel_initializer='he_normal', input_shape=(28,28,1)))\n",
        "  student.add(MaxPooling2D(pool_size=(2, 2)))\n",
        "\n",
        "  student.add(Flatten())\n",
        "  student.add(Dense(128, activation='relu'))\n",
        "  student.add(Dense(10, activation=None))   # This is essential, as we will use the logits for calculating softened probabilites at different T\n",
        "  \n",
        "  return student"
      ],
      "execution_count": 137,
      "outputs": []
    },
    {
      "cell_type": "code",
      "metadata": {
        "colab": {
          "base_uri": "https://localhost:8080/"
        },
        "id": "b2t52YGQkjRv",
        "outputId": "5745c0af-06f9-4a46-db2a-925406e22d1b"
      },
      "source": [
        "temp_student = createStudentModel()\n",
        "temp_student.summary()"
      ],
      "execution_count": 138,
      "outputs": [
        {
          "output_type": "stream",
          "text": [
            "Model: \"Student_Model\"\n",
            "_________________________________________________________________\n",
            "Layer (type)                 Output Shape              Param #   \n",
            "=================================================================\n",
            "conv2d_21 (Conv2D)           (None, 26, 26, 32)        320       \n",
            "_________________________________________________________________\n",
            "max_pooling2d_21 (MaxPooling (None, 13, 13, 32)        0         \n",
            "_________________________________________________________________\n",
            "flatten_21 (Flatten)         (None, 5408)              0         \n",
            "_________________________________________________________________\n",
            "dense_43 (Dense)             (None, 128)               692352    \n",
            "_________________________________________________________________\n",
            "dense_44 (Dense)             (None, 10)                1290      \n",
            "=================================================================\n",
            "Total params: 693,962\n",
            "Trainable params: 693,962\n",
            "Non-trainable params: 0\n",
            "_________________________________________________________________\n"
          ],
          "name": "stdout"
        }
      ]
    },
    {
      "cell_type": "markdown",
      "metadata": {
        "id": "y1K5whuqid1G"
      },
      "source": [
        "### First let's check accuracy of Student model without knowledge distillation"
      ]
    },
    {
      "cell_type": "code",
      "metadata": {
        "id": "ieP3S_ftCBJX"
      },
      "source": [
        "import numpy as np"
      ],
      "execution_count": 139,
      "outputs": []
    },
    {
      "cell_type": "code",
      "metadata": {
        "colab": {
          "base_uri": "https://localhost:8080/"
        },
        "id": "onSbTjJ-g097",
        "outputId": "a78c3a45-8e23-4472-ab6b-f9a7ce63d4cc"
      },
      "source": [
        "res = []\n",
        "iters = 20\n",
        "for i in range(iters):\n",
        "  # Clone student for later comparison\n",
        "  student_scratch = createStudentModel()\n",
        "\n",
        "  student_scratch.compile(\n",
        "      optimizer=keras.optimizers.Adam(),\n",
        "      loss=keras.losses.SparseCategoricalCrossentropy(from_logits=True),\n",
        "      metrics=[keras.metrics.SparseCategoricalAccuracy()],\n",
        "  )\n",
        "\n",
        "  student_scratch.fit(trainX, trainy, epochs=10, batch_size=32, verbose=0)\n",
        "  res.append(student_scratch.evaluate(testX, testy))\n",
        "\n",
        "print(\"Accuracy = \", np.mean(res, axis=0)[1])"
      ],
      "execution_count": 140,
      "outputs": [
        {
          "output_type": "stream",
          "text": [
            "313/313 [==============================] - 1s 2ms/step - loss: 0.0584 - sparse_categorical_accuracy: 0.9866\n",
            "313/313 [==============================] - 1s 2ms/step - loss: 0.0637 - sparse_categorical_accuracy: 0.9857\n",
            "313/313 [==============================] - 1s 2ms/step - loss: 0.0555 - sparse_categorical_accuracy: 0.9873\n",
            "313/313 [==============================] - 1s 2ms/step - loss: 0.0622 - sparse_categorical_accuracy: 0.9868\n",
            "313/313 [==============================] - 1s 2ms/step - loss: 0.0618 - sparse_categorical_accuracy: 0.9860\n",
            "313/313 [==============================] - 1s 2ms/step - loss: 0.0634 - sparse_categorical_accuracy: 0.9857\n",
            "313/313 [==============================] - 1s 2ms/step - loss: 0.0686 - sparse_categorical_accuracy: 0.9857\n",
            "313/313 [==============================] - 1s 2ms/step - loss: 0.0573 - sparse_categorical_accuracy: 0.9859\n",
            "313/313 [==============================] - 1s 2ms/step - loss: 0.0607 - sparse_categorical_accuracy: 0.9873\n",
            "313/313 [==============================] - 1s 2ms/step - loss: 0.0550 - sparse_categorical_accuracy: 0.9876\n",
            "313/313 [==============================] - 1s 2ms/step - loss: 0.0750 - sparse_categorical_accuracy: 0.9839\n",
            "313/313 [==============================] - 1s 2ms/step - loss: 0.0927 - sparse_categorical_accuracy: 0.9830\n",
            "313/313 [==============================] - 1s 2ms/step - loss: 0.0663 - sparse_categorical_accuracy: 0.9858\n",
            "313/313 [==============================] - 1s 2ms/step - loss: 0.0653 - sparse_categorical_accuracy: 0.9862\n",
            "313/313 [==============================] - 1s 3ms/step - loss: 0.0706 - sparse_categorical_accuracy: 0.9857\n",
            "313/313 [==============================] - 1s 2ms/step - loss: 0.0568 - sparse_categorical_accuracy: 0.9862\n",
            "313/313 [==============================] - 1s 2ms/step - loss: 0.0659 - sparse_categorical_accuracy: 0.9854\n",
            "313/313 [==============================] - 1s 2ms/step - loss: 0.0629 - sparse_categorical_accuracy: 0.9871\n",
            "313/313 [==============================] - 1s 2ms/step - loss: 0.0582 - sparse_categorical_accuracy: 0.9870\n",
            "313/313 [==============================] - 1s 2ms/step - loss: 0.0593 - sparse_categorical_accuracy: 0.9858\n",
            "Accuracy =  0.9860350012779235\n"
          ],
          "name": "stdout"
        }
      ]
    },
    {
      "cell_type": "markdown",
      "metadata": {
        "id": "TAsby3_Xjfqr"
      },
      "source": [
        "**Student model achieves 98.6% accuracy on test data (without Knowledge Distillation)**"
      ]
    },
    {
      "cell_type": "markdown",
      "metadata": {
        "id": "cB7yUI_Ejs9E"
      },
      "source": [
        "### Now let's try to Distill the knowledge of teacher model into student model"
      ]
    },
    {
      "cell_type": "code",
      "metadata": {
        "colab": {
          "base_uri": "https://localhost:8080/"
        },
        "id": "462pcwoOjCq_",
        "outputId": "c8cea961-0284-41d2-c8c9-ba1098ae9411"
      },
      "source": [
        "res = []\n",
        "iters = 20\n",
        "for i in range(iters):\n",
        "  # Initialize and compile distiller\n",
        "  student_distilled = createStudentModel()\n",
        "  \n",
        "  distiller = Distiller(student=student_distilled, teacher=teacher)\n",
        "  distiller.compile(\n",
        "      optimizer=keras.optimizers.Adam(),\n",
        "      metrics=[keras.metrics.SparseCategoricalAccuracy()],\n",
        "      student_loss_fn=keras.losses.SparseCategoricalCrossentropy(from_logits=True),\n",
        "      distillation_loss_fn=keras.losses.KLDivergence(),\n",
        "      alpha=0.2,\n",
        "      temperature=10,\n",
        "  )\n",
        "\n",
        "  distiller.fit(trainX, trainy, epochs=10, batch_size=32, verbose=0)\n",
        "  res.append(distiller.evaluate(testX, testy))\n",
        "\n",
        "print(\"Accuracy = \", np.mean(res))"
      ],
      "execution_count": 141,
      "outputs": [
        {
          "output_type": "stream",
          "text": [
            "313/313 [==============================] - 1s 2ms/step - sparse_categorical_accuracy: 0.9887 - loss: 0.0494\n",
            "313/313 [==============================] - 1s 2ms/step - sparse_categorical_accuracy: 0.9889 - loss: 0.0466\n",
            "313/313 [==============================] - 1s 2ms/step - sparse_categorical_accuracy: 0.9893 - loss: 0.0469\n",
            "313/313 [==============================] - 1s 2ms/step - sparse_categorical_accuracy: 0.9889 - loss: 0.0488\n",
            "313/313 [==============================] - 1s 2ms/step - sparse_categorical_accuracy: 0.9892 - loss: 0.0510\n",
            "313/313 [==============================] - 1s 2ms/step - sparse_categorical_accuracy: 0.9883 - loss: 0.0519\n",
            "313/313 [==============================] - 1s 2ms/step - sparse_categorical_accuracy: 0.9887 - loss: 0.0488\n",
            "313/313 [==============================] - 1s 2ms/step - sparse_categorical_accuracy: 0.9893 - loss: 0.0471\n",
            "313/313 [==============================] - 1s 2ms/step - sparse_categorical_accuracy: 0.9895 - loss: 0.0499\n",
            "313/313 [==============================] - 1s 2ms/step - sparse_categorical_accuracy: 0.9884 - loss: 0.0523\n",
            "313/313 [==============================] - 1s 2ms/step - sparse_categorical_accuracy: 0.9899 - loss: 0.0498\n",
            "313/313 [==============================] - 1s 2ms/step - sparse_categorical_accuracy: 0.9881 - loss: 0.0507\n",
            "313/313 [==============================] - 1s 2ms/step - sparse_categorical_accuracy: 0.9882 - loss: 0.0507\n",
            "313/313 [==============================] - 1s 2ms/step - sparse_categorical_accuracy: 0.9881 - loss: 0.0501\n",
            "313/313 [==============================] - 1s 2ms/step - sparse_categorical_accuracy: 0.9886 - loss: 0.0501\n",
            "313/313 [==============================] - 1s 2ms/step - sparse_categorical_accuracy: 0.9883 - loss: 0.0485\n",
            "313/313 [==============================] - 1s 2ms/step - sparse_categorical_accuracy: 0.9887 - loss: 0.0531\n",
            "313/313 [==============================] - 1s 2ms/step - sparse_categorical_accuracy: 0.9881 - loss: 0.0504\n",
            "313/313 [==============================] - 1s 2ms/step - sparse_categorical_accuracy: 0.9884 - loss: 0.0500\n",
            "313/313 [==============================] - 1s 2ms/step - sparse_categorical_accuracy: 0.9886 - loss: 0.0468\n",
            "Accuracy =  0.9887099981307983\n"
          ],
          "name": "stdout"
        }
      ]
    },
    {
      "cell_type": "markdown",
      "metadata": {
        "id": "9SnthLbza-lx"
      },
      "source": [
        "## Using the distilled knowledge from teacher, the stuent is able to achieve accuracy of 98.87%, which is a great improvement over the normal student model (98.6%) and closer to the accuracy attained by the teacher model (98.96%)."
      ]
    },
    {
      "cell_type": "markdown",
      "metadata": {
        "id": "7jtbjPufbUce"
      },
      "source": [
        "- Now, let's see if knowledge distillation helps in regularizing the student model."
      ]
    },
    {
      "cell_type": "code",
      "metadata": {
        "id": "Lcs0xsAra98P"
      },
      "source": [
        "from keras.callbacks import History\n",
        "history = History()"
      ],
      "execution_count": 142,
      "outputs": []
    },
    {
      "cell_type": "code",
      "metadata": {
        "id": "4HeRep5PcEtl"
      },
      "source": [
        "import matplotlib.pyplot as plt\n",
        "\n",
        "def plotModel(history): \n",
        "  fig, axs = plt.subplots(1,2,figsize=(16,5)) \n",
        "  # summarize history for accuracy\n",
        "  axs[0].plot(history.history['sparse_categorical_accuracy'], 'c') \n",
        "  axs[0].plot(history.history['val_sparse_categorical_accuracy'],'m') \n",
        "  axs[0].set_title('Model Accuracy')\n",
        "  axs[0].set_ylabel('Accuracy') \n",
        "  axs[0].set_xlabel('Epoch')\n",
        "  axs[0].legend(['train', 'validate'], loc='upper left')\n",
        "  # summarize history for loss\n",
        "  axs[1].plot(history.history['loss'], 'c') \n",
        "  axs[1].plot(history.history['val_loss'], 'm') \n",
        "  axs[1].set_title('Model Loss')\n",
        "  axs[1].set_ylabel('Loss') \n",
        "  axs[1].set_xlabel('Epoch')\n",
        "  axs[1].legend(['train', 'validate'], loc='upper right')\n",
        "  plt.show()"
      ],
      "execution_count": 143,
      "outputs": []
    },
    {
      "cell_type": "markdown",
      "metadata": {
        "id": "zumYgQ8hcU35"
      },
      "source": [
        "## Plotting loss and accuracy plots for student model trained from scratch"
      ]
    },
    {
      "cell_type": "code",
      "metadata": {
        "id": "nzoZ0vsZjzEt",
        "colab": {
          "base_uri": "https://localhost:8080/"
        },
        "outputId": "d87ac760-92a4-4e41-d0ad-f8c07cdfdd63"
      },
      "source": [
        "# Clone student for later comparison\n",
        "student_scratch = createStudentModel()\n",
        "\n",
        "student_scratch.compile(\n",
        "    optimizer=keras.optimizers.Adam(),\n",
        "    loss=keras.losses.SparseCategoricalCrossentropy(from_logits=True),\n",
        "    metrics=[keras.metrics.SparseCategoricalAccuracy()],\n",
        ")\n",
        "\n",
        "student_scratch.fit(trainX, trainy, epochs=10, batch_size=32, validation_data=(testX, testy), verbose=1, callbacks=[History()])"
      ],
      "execution_count": 144,
      "outputs": [
        {
          "output_type": "stream",
          "text": [
            "Epoch 1/10\n",
            "1875/1875 [==============================] - 5s 3ms/step - loss: 0.1361 - sparse_categorical_accuracy: 0.9580 - val_loss: 0.0558 - val_sparse_categorical_accuracy: 0.9809\n",
            "Epoch 2/10\n",
            "1875/1875 [==============================] - 5s 3ms/step - loss: 0.0423 - sparse_categorical_accuracy: 0.9866 - val_loss: 0.0516 - val_sparse_categorical_accuracy: 0.9828\n",
            "Epoch 3/10\n",
            "1875/1875 [==============================] - 5s 3ms/step - loss: 0.0261 - sparse_categorical_accuracy: 0.9914 - val_loss: 0.0425 - val_sparse_categorical_accuracy: 0.9868\n",
            "Epoch 4/10\n",
            "1875/1875 [==============================] - 5s 3ms/step - loss: 0.0161 - sparse_categorical_accuracy: 0.9948 - val_loss: 0.0456 - val_sparse_categorical_accuracy: 0.9865\n",
            "Epoch 5/10\n",
            "1875/1875 [==============================] - 5s 3ms/step - loss: 0.0110 - sparse_categorical_accuracy: 0.9964 - val_loss: 0.0493 - val_sparse_categorical_accuracy: 0.9858\n",
            "Epoch 6/10\n",
            "1875/1875 [==============================] - 5s 3ms/step - loss: 0.0080 - sparse_categorical_accuracy: 0.9973 - val_loss: 0.0460 - val_sparse_categorical_accuracy: 0.9873\n",
            "Epoch 7/10\n",
            "1875/1875 [==============================] - 5s 3ms/step - loss: 0.0056 - sparse_categorical_accuracy: 0.9980 - val_loss: 0.0644 - val_sparse_categorical_accuracy: 0.9840\n",
            "Epoch 8/10\n",
            "1875/1875 [==============================] - 5s 3ms/step - loss: 0.0061 - sparse_categorical_accuracy: 0.9979 - val_loss: 0.0556 - val_sparse_categorical_accuracy: 0.9866\n",
            "Epoch 9/10\n",
            "1875/1875 [==============================] - 5s 3ms/step - loss: 0.0036 - sparse_categorical_accuracy: 0.9989 - val_loss: 0.0590 - val_sparse_categorical_accuracy: 0.9868\n",
            "Epoch 10/10\n",
            "1875/1875 [==============================] - 5s 3ms/step - loss: 0.0038 - sparse_categorical_accuracy: 0.9988 - val_loss: 0.0648 - val_sparse_categorical_accuracy: 0.9858\n"
          ],
          "name": "stdout"
        },
        {
          "output_type": "execute_result",
          "data": {
            "text/plain": [
              "<tensorflow.python.keras.callbacks.History at 0x7f20f695b470>"
            ]
          },
          "metadata": {
            "tags": []
          },
          "execution_count": 144
        }
      ]
    },
    {
      "cell_type": "code",
      "metadata": {
        "colab": {
          "base_uri": "https://localhost:8080/",
          "height": 350
        },
        "id": "ST5nvJkZcMi3",
        "outputId": "e43ba68e-d192-4378-d37e-e35aa7f48dd1"
      },
      "source": [
        "plotModel(student_scratch.history)"
      ],
      "execution_count": 145,
      "outputs": [
        {
          "output_type": "display_data",
          "data": {
            "image/png": "[encoded data removed]",
            "text/plain": [
              "<Figure size 1152x360 with 2 Axes>"
            ]
          },
          "metadata": {
            "tags": [],
            "needs_background": "light"
          }
        }
      ]
    },
    {
      "cell_type": "markdown",
      "metadata": {
        "id": "ECyZmyrAck_z"
      },
      "source": [
        "## Plotting loss and accuracy plots for student model with KD"
      ]
    },
    {
      "cell_type": "code",
      "metadata": {
        "colab": {
          "base_uri": "https://localhost:8080/"
        },
        "id": "GI0DQj72cbrM",
        "outputId": "14553c52-a1b6-4daf-c05e-5700fc0e2d33"
      },
      "source": [
        "# Initialize and compile distiller\n",
        "student_distilled = createStudentModel()\n",
        "\n",
        "distiller = Distiller(student=student_distilled, teacher=teacher)\n",
        "distiller.compile(\n",
        "    optimizer=keras.optimizers.Adam(),\n",
        "    metrics=[keras.metrics.SparseCategoricalAccuracy()],\n",
        "    student_loss_fn=keras.losses.SparseCategoricalCrossentropy(from_logits=True),\n",
        "    distillation_loss_fn=keras.losses.KLDivergence(),\n",
        "    alpha=0.2,\n",
        "    temperature=10,\n",
        ")\n",
        "\n",
        "distiller.fit(trainX, trainy, epochs=10, batch_size=32, validation_data=(testX, testy), verbose=1, callbacks=[History()])"
      ],
      "execution_count": 146,
      "outputs": [
        {
          "output_type": "stream",
          "text": [
            "Epoch 1/10\n",
            "1875/1875 [==============================] - 7s 4ms/step - sparse_categorical_accuracy: 0.9614 - student_loss: 0.1905 - distillation_loss: 0.0551 - loss: 1.2551 - val_sparse_categorical_accuracy: 0.9809 - val_loss: 0.0124\n",
            "Epoch 2/10\n",
            "1875/1875 [==============================] - 6s 3ms/step - sparse_categorical_accuracy: 0.9865 - student_loss: 0.0539 - distillation_loss: 0.0159 - loss: 0.3621 - val_sparse_categorical_accuracy: 0.9848 - val_loss: 0.0010\n",
            "Epoch 3/10\n",
            "1875/1875 [==============================] - 6s 3ms/step - sparse_categorical_accuracy: 0.9912 - student_loss: 0.0316 - distillation_loss: 0.0101 - loss: 0.2266 - val_sparse_categorical_accuracy: 0.9858 - val_loss: 0.0280\n",
            "Epoch 4/10\n",
            "1875/1875 [==============================] - 6s 3ms/step - sparse_categorical_accuracy: 0.9939 - student_loss: 0.0209 - distillation_loss: 0.0075 - loss: 0.1666 - val_sparse_categorical_accuracy: 0.9877 - val_loss: 0.0011\n",
            "Epoch 5/10\n",
            "1875/1875 [==============================] - 7s 3ms/step - sparse_categorical_accuracy: 0.9958 - student_loss: 0.0150 - distillation_loss: 0.0060 - loss: 0.1312 - val_sparse_categorical_accuracy: 0.9892 - val_loss: 0.0015\n",
            "Epoch 6/10\n",
            "1875/1875 [==============================] - 7s 3ms/step - sparse_categorical_accuracy: 0.9970 - student_loss: 0.0115 - distillation_loss: 0.0050 - loss: 0.1082 - val_sparse_categorical_accuracy: 0.9889 - val_loss: 0.0010\n",
            "Epoch 7/10\n",
            "1875/1875 [==============================] - 7s 3ms/step - sparse_categorical_accuracy: 0.9979 - student_loss: 0.0093 - distillation_loss: 0.0042 - loss: 0.0923 - val_sparse_categorical_accuracy: 0.9891 - val_loss: 8.3922e-04\n",
            "Epoch 8/10\n",
            "1875/1875 [==============================] - 6s 3ms/step - sparse_categorical_accuracy: 0.9984 - student_loss: 0.0077 - distillation_loss: 0.0037 - loss: 0.0806 - val_sparse_categorical_accuracy: 0.9886 - val_loss: 0.0023\n",
            "Epoch 9/10\n",
            "1875/1875 [==============================] - 6s 3ms/step - sparse_categorical_accuracy: 0.9989 - student_loss: 0.0065 - distillation_loss: 0.0033 - loss: 0.0716 - val_sparse_categorical_accuracy: 0.9895 - val_loss: 0.0024\n",
            "Epoch 10/10\n",
            "1875/1875 [==============================] - 6s 3ms/step - sparse_categorical_accuracy: 0.9990 - student_loss: 0.0059 - distillation_loss: 0.0030 - loss: 0.0655 - val_sparse_categorical_accuracy: 0.9896 - val_loss: 0.0034\n"
          ],
          "name": "stdout"
        },
        {
          "output_type": "execute_result",
          "data": {
            "text/plain": [
              "<tensorflow.python.keras.callbacks.History at 0x7f20f2e82b70>"
            ]
          },
          "metadata": {
            "tags": []
          },
          "execution_count": 146
        }
      ]
    },
    {
      "cell_type": "code",
      "metadata": {
        "colab": {
          "base_uri": "https://localhost:8080/",
          "height": 350
        },
        "id": "MEhGbD1zetyR",
        "outputId": "57769dc5-b748-4671-d7ae-801d94f1c03a"
      },
      "source": [
        "plotModel(distiller.history)"
      ],
      "execution_count": 147,
      "outputs": [
        {
          "output_type": "display_data",
          "data": {
            "image/png": "[encoded data removed]",
            "text/plain": [
              "<Figure size 1152x360 with 2 Axes>"
            ]
          },
          "metadata": {
            "tags": [],
            "needs_background": "light"
          }
        }
      ]
    },
    {
      "cell_type": "code",
      "metadata": {
        "id": "AvQ1SwOwfBrX"
      },
      "source": [
        ""
      ],
      "execution_count": 147,
      "outputs": []
    }
  ]
}